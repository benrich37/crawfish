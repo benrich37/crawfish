{
 "cells": [
  {
   "cell_type": "code",
   "execution_count": 1,
   "metadata": {},
   "outputs": [],
   "source": [
    "from pathlib import Path\n",
    "import numpy as np\n",
    "from crawfish.utils.testing import EXAMPLE_CALC_DIRS_DIR\n",
    "from crawfish.core.operations.vector import get_gauss_smear_spectrum, get_lti_spectrum,get_uneven_integrated_array\n",
    "from crawfish.core.elecdata import ElecData, los_projs_for_bands\n",
    "from crawfish.funcs.general import SIGMA_DEFAULT, RES_DEFAULT\n",
    "from crawfish.utils.typing import REAL_DTYPE, cs_formatter, COMPLEX_DTYPE\n",
    "import matplotlib.pyplot as plt\n",
    "\n",
    "n2_calcdir = EXAMPLE_CALC_DIRS_DIR / \"N2_bare_min\"\n",
    "edata = ElecData(n2_calcdir)\n",
    "#edata.norm_projs_t2()\n",
    "nproj = edata.nproj\n",
    "nspin = edata.nspin\n",
    "nbands = edata.nbands\n",
    "nstates = edata.nstates\n",
    "kfolding = edata.kfolding\n",
    "nk = np.prod(kfolding)\n",
    "proj_sabcju = edata.proj_sabcju\n",
    "e_sabcj = edata.e_sabcj\n",
    "occ_sabcj = edata.occ_sabcj\n",
    "wk_jsabc = np.array([edata.wk_sabc for _ in range(nbands)], dtype=REAL_DTYPE)\n",
    "wk_sabcj = np.moveaxis(wk_jsabc, 0, -1)"
   ]
  },
  {
   "cell_type": "code",
   "execution_count": 2,
   "metadata": {},
   "outputs": [
    {
     "data": {
      "text/plain": [
       "<matplotlib.image.AxesImage at 0x1242fbdd0>"
      ]
     },
     "execution_count": 2,
     "metadata": {},
     "output_type": "execute_result"
    },
    {
     "data": {
      "image/png": "[encoded data removed]",
      "text/plain": [
       "<Figure size 640x480 with 4 Axes>"
      ]
     },
     "metadata": {},
     "output_type": "display_data"
    }
   ],
   "source": [
    "\n",
    "def _norm_projs_for_bands_jit_helper_1(nProj, nStates, nBands, proj_tju, j_sums):\n",
    "    for u in range(nProj):\n",
    "        for t in range(nStates):\n",
    "            for j in range(nBands):\n",
    "                j_sums[j] += abs(np.conj(proj_tju[t, j, u]) * proj_tju[t, j, u])\n",
    "    for j in range(nBands):\n",
    "        proj_tju[:, j, :] *= 1 / np.sqrt(j_sums[j])\n",
    "    proj_tju *= np.sqrt(nStates)\n",
    "    return proj_tju\n",
    "\n",
    "\n",
    "def _norm_projs_for_bands(proj_tju, nStates, nBands, nProj):\n",
    "    j_sums = np.zeros(nBands)\n",
    "    proj_tju = _norm_projs_for_bands_jit_helper_1(nProj, nStates, nBands, proj_tju, j_sums)\n",
    "    return proj_tju\n",
    "\n",
    "def _norm_projs_for_orbs_jit_helper(nProj, nStates, nBands, proj_tju, u_sums):\n",
    "    for u in range(nProj):\n",
    "        for t in range(nStates):\n",
    "            for j in range(nBands):\n",
    "                u_sums[u] += abs(np.conj(proj_tju[t, j, u]) * proj_tju[t, j, u])\n",
    "    for u in range(nProj):\n",
    "        proj_tju[:, :, u] *= 1 / np.sqrt(u_sums[u])\n",
    "    proj_tju *= np.sqrt(nStates)\n",
    "    # proj_tju *= np.sqrt(2)\n",
    "    # proj_tju *= np.sqrt(nStates*nBands/nProj)\n",
    "    return proj_tju\n",
    "\n",
    "\n",
    "def _norm_projs_for_orbs(proj_tju, nStates, nBands, nProj):\n",
    "    u_sums = np.zeros(nProj)\n",
    "    # TODO: Identify the error types raised by division by zero within a jitted function\n",
    "    # (if certain orbitals are only represented by bands above nProj, this error should\n",
    "    # be clarified to the user)\n",
    "    proj_tju = _norm_projs_for_orbs_jit_helper(nProj, nStates, nBands, proj_tju, u_sums)\n",
    "    return proj_tju\n",
    "\n",
    "def los_projs_for_orbs_t2(edata):\n",
    "    e_sabcj = edata.e_sabcj[:,:,:,:,:nproj]\n",
    "    proj_sabcju = edata.proj_sabcju[:,:,:,:,:nproj, :]\n",
    "    low_proj_sabcju = np.zeros(proj_sabcju.shape, dtype=COMPLEX_DTYPE)\n",
    "\n",
    "    nka = kfolding[0]\n",
    "    nkb = kfolding[1]\n",
    "    nkc = kfolding[2]\n",
    "    s_uu_sabc = np.zeros([nproj, nproj, nspin] + list(kfolding), dtype=COMPLEX_DTYPE)\n",
    "    for s in range(nspin):\n",
    "        for a in range(nka):\n",
    "            for b in range(nkb):\n",
    "                for c in range(nkc):\n",
    "                    s_uu_sabc[:,:,s,a,b,c] = np.tensordot(\n",
    "                        proj_sabcju[s,a,b,c].conj().T,\n",
    "                        proj_sabcju[s,a,b,c],\n",
    "                        axes=(\n",
    "                            [1],\n",
    "                            [0]\n",
    "                        )\n",
    "                    )\n",
    "    for s in range(nspin):\n",
    "        for a in range(nka):\n",
    "            for b in range(nkb):\n",
    "                for c in range(nkc):\n",
    "                    s_uu = s_uu_sabc[:,:,s,a,b,c]\n",
    "                    eigs, low_u = np.linalg.eigh(s_uu)\n",
    "                    nsqrt_ss_uu = np.eye(len(eigs)) * (eigs ** (-0.5))\n",
    "                    low_s_uu = np.dot(low_u, np.dot(nsqrt_ss_uu, low_u.T.conj()))\n",
    "                    low_proj_ju = np.tensordot(proj_sabcju[s,a,b,c], low_s_uu, axes=([1], [0]))\n",
    "                    low_proj_sabcju[s,a,b,c] = low_proj_ju.conj().T\n",
    "\n",
    "    return e_sabcj, low_proj_sabcju\n",
    "\n",
    "\n",
    "\n",
    "\n",
    "def los_projs_for_orbs(_proj_sabcju: np.ndarray[COMPLEX_DTYPE], mute_xs_bands=False) -> np.ndarray[COMPLEX_DTYPE]:\n",
    "    \"\"\"Perform LOS on projections for orb orthogonality.\n",
    "\n",
    "    Perform Lowdin symmetric orthogonalization on projections for orb orthogonality.\n",
    "\n",
    "    Parameters\n",
    "    ----------\n",
    "    proj_sabcju : np.ndarray[COMPLEX_DTYPE]\n",
    "        Projections in shape (nstates, nbands, nproj).\n",
    "    \"\"\"\n",
    "    proj_sabcju = _proj_sabcju.copy()\n",
    "    sabcju = np.shape(proj_sabcju)\n",
    "    nstates = np.prod(np.shape(proj_sabcju)[:-2])\n",
    "    nbands = np.shape(proj_sabcju)[-2]\n",
    "    nproj = np.shape(proj_sabcju)[-1]\n",
    "    proj_tju = proj_sabcju.reshape(nstates, nbands, nproj)\n",
    "    proj_tju = _norm_projs_for_orbs(proj_tju, nstates, nbands, nproj)\n",
    "    proj_sabcju = proj_tju.reshape(sabcju)\n",
    "    s_uu = np.tensordot(proj_sabcju.conj().T, proj_sabcju, axes=([5, 4, 3, 2, 1], [0, 1, 2, 3, 4]))\n",
    "    eigs, low_u = np.linalg.eigh(s_uu)\n",
    "    nsqrt_ss_uu = np.eye(len(eigs)) * (eigs ** (-0.5))\n",
    "    low_s_uu = np.dot(low_u, np.dot(nsqrt_ss_uu, low_u.T.conj()))\n",
    "    low_proj_sabcju = np.tensordot(proj_sabcju, low_s_uu, axes=([5], [0]))\n",
    "    proj_tju = low_proj_sabcju.reshape(nstates, nbands, nproj)\n",
    "    proj_tju = _norm_projs_for_orbs(proj_tju, nstates, nbands, nproj)\n",
    "    low_proj_sabcju = proj_tju.reshape(sabcju)\n",
    "    return low_proj_sabcju\n",
    "\n",
    "def los_projs_for_bands(_proj_sabcju: np.ndarray[COMPLEX_DTYPE]) -> np.ndarray[COMPLEX_DTYPE]:\n",
    "    \"\"\"Perform LOS on projections for band orthogonality.\n",
    "\n",
    "    Perform Lowdin symmetric orthogonalization on projections for band orthogonality.\n",
    "\n",
    "    Parameters\n",
    "    ----------\n",
    "    proj_sabcju : np.ndarray[COMPLEX_DTYPE]\n",
    "        Projections in shape (nstates, nbands, nproj).\n",
    "    \"\"\"\n",
    "    proj_sabcju = _proj_sabcju.copy()\n",
    "    sabcju = np.shape(proj_sabcju)\n",
    "    nstates = np.prod(np.shape(proj_sabcju)[:-2])\n",
    "    nbands = np.shape(proj_sabcju)[-2]\n",
    "    nproj = np.shape(proj_sabcju)[-1]\n",
    "    s_jj = np.tensordot(proj_sabcju.conj().T, proj_sabcju, axes=([5, 4, 3, 2, 0], [0, 1, 2, 3, 5]))\n",
    "    eigs, low_u = np.linalg.eigh(s_jj)\n",
    "    nsqrt_ss_jj = np.eye(len(eigs)) * (eigs ** (-0.5))\n",
    "    low_s_jj = np.dot(low_u, np.dot(nsqrt_ss_jj, low_u.T.conj()))\n",
    "    low_proj_sabcju = np.tensordot(proj_sabcju, low_s_jj, axes=([4], [0]))\n",
    "    low_proj_sabcju = np.swapaxes(low_proj_sabcju, 5, 4)\n",
    "    proj_tju = low_proj_sabcju.reshape(nstates, nbands, nproj)\n",
    "    proj_tju = _norm_projs_for_bands(proj_tju, nstates, nbands, nproj)\n",
    "    low_proj_sabcju = proj_tju.reshape(sabcju)\n",
    "    return low_proj_sabcju\n",
    "\n",
    "\n",
    "e_sabcj = e_sabcj[:,:,:,:,:nproj]\n",
    "proj_sabcju = proj_sabcju[:,:,:,:,:nproj, :]\n",
    "occ_sabcj = occ_sabcj[:,:,:,:,:nproj]\n",
    "wk_sabcj = wk_sabcj[:,:,:,:,:nproj]\n",
    "\n",
    "low_proj_sabcju_t2 = los_projs_for_bands(proj_sabcju) \n",
    "low_proj_sabcju = los_projs_for_orbs(proj_sabcju) \n",
    "#low_proj_sabcju *= 1/np.sqrt(nstates)\n",
    "\n",
    "fig, ax = plt.subplots(nrows=2, ncols=2)\n",
    "LULU = np.tensordot(low_proj_sabcju.conj().T, low_proj_sabcju, axes=([5, 4, 3, 2, 1], [0, 1, 2, 3, 4]))\n",
    "ULU = np.tensordot(proj_sabcju.conj().T, low_proj_sabcju, axes=([5, 4, 3, 2, 1], [0, 1, 2, 3, 4]))\n",
    "LJLJ = np.tensordot(low_proj_sabcju_t2.conj().T, low_proj_sabcju_t2, axes=([5, 4,3,2,0], [0, 1, 2, 3, 5]))\n",
    "JLJ = np.tensordot(proj_sabcju.conj().T, low_proj_sabcju_t2, axes=([5, 4, 3, 2, 0], [0, 1, 2, 3, 5]))\n",
    "ax[0,0].imshow(np.abs(LULU))\n",
    "ax[0,1].imshow(np.abs(ULU))\n",
    "ax[1,0].imshow(np.abs(LJLJ))\n",
    "ax[1,1].imshow(np.abs(JLJ))\n"
   ]
  },
  {
   "cell_type": "code",
   "execution_count": 9,
   "metadata": {},
   "outputs": [
    {
     "name": "stdout",
     "output_type": "stream",
     "text": [
      "0.8363785920319734\n",
      "45.16444396972656\n"
     ]
    },
    {
     "data": {
      "text/plain": [
       "<matplotlib.lines.Line2D at 0x124a589b0>"
      ]
     },
     "execution_count": 9,
     "metadata": {},
     "output_type": "execute_result"
    },
    {
     "data": {
      "image/png": "[encoded data removed]",
      "text/plain": [
       "<Figure size 640x480 with 1 Axes>"
      ]
     },
     "metadata": {},
     "output_type": "display_data"
    }
   ],
   "source": [
    "erange = np.arange(-1.5, 0.5, RES_DEFAULT, dtype=REAL_DTYPE)\n",
    "us = [0,1,2,3]\n",
    "vs = [4,5,6,7]\n",
    "orbs = us + vs\n",
    "\n",
    "# edata = ElecData(n2_calcdir)\n",
    "# edata.norm_projs_t1()\n",
    "# e_sabcj = edata.e_sabcj.copy()\n",
    "# low_proj_sabcju = edata.proj_sabcju.copy()\n",
    "\n",
    "# p1 = np.zeros(np.shape(e_sabcj), dtype=COMPLEX_DTYPE)\n",
    "# p2 = np.zeros(np.shape(e_sabcj), dtype=COMPLEX_DTYPE)\n",
    "# for u in us:\n",
    "#     p1 += low_proj_sabcju[:,:,:,:,:,u]*np.sum(S_UU[u])\n",
    "# for v in vs:\n",
    "#     p2 += low_proj_sabcju[:,:,:,:,:,v]*np.sum(S_UU[v])\n",
    "\n",
    "# weights_sabcj = p1.conj() * p2 + p2.conj() * p1\n",
    "h_uv_sabcj = np.zeros([nproj, nproj] + list(np.shape(e_sabcj)), dtype=COMPLEX_DTYPE)\n",
    "p_uv_sabcj = np.zeros([nproj, nproj] + list(np.shape(e_sabcj)), dtype=COMPLEX_DTYPE)\n",
    "s_uv_sabcj = np.zeros([nproj, nproj] + list(np.shape(e_sabcj)), dtype=COMPLEX_DTYPE)\n",
    "l_uv_sabcj = np.zeros([nproj, nproj] + list(np.shape(e_sabcj)), dtype=COMPLEX_DTYPE)\n",
    "weights_sabcj = np.zeros(np.shape(e_sabcj), dtype=COMPLEX_DTYPE)\n",
    "\n",
    "nspin, nka, nkb, nkc, nbands = np.shape(weights_sabcj)\n",
    "\n",
    "for u in orbs:\n",
    "    for v in orbs:\n",
    "        # part_sabcj = low_proj_sabcju[:,:,:,:,:,u].conj() * low_proj_sabcju[:,:,:,:,:,v] * S_UU[u,v]\n",
    "        part_sabcj = low_proj_sabcju[:,:,:,:,:,u].conj() * low_proj_sabcju[:,:,:,:,:,v]\n",
    "        part_sabcj += part_sabcj.conj()\n",
    "        part_sabcj *= 0.5 * wk_sabcj\n",
    "        p_uv_sabcj[u,v, :, :, :, :, :] += part_sabcj\n",
    "        # part_sabcj = np.real(low_proj_sabcju[:,:,:,:,:,u].conj() * low_proj_sabcju[:,:,:,:,:,v])\n",
    "        huv_sabc = np.zeros([nspin] + list(kfolding), dtype=COMPLEX_DTYPE)\n",
    "        for s in range(nspin):\n",
    "            for a in range(nka):\n",
    "                for b in range(nkb):\n",
    "                    for c in range(nkc):\n",
    "                        for j in range(np.shape(weights_sabcj)[-1]):\n",
    "                            huv_sabc[s,a,b,c] += part_sabcj[s,a,b,c,j]*e_sabcj[s,a,b,c,j]\n",
    "        huv_jsabc = np.array([huv_sabc for j in range(np.shape(weights_sabcj)[-1])], dtype=COMPLEX_DTYPE)\n",
    "        huv_sabcj = np.moveaxis(huv_jsabc, 0, -1)\n",
    "        h_uv_sabcj[u,v, :, :, :, :, :] += huv_sabcj\n",
    "        part2_sabcj = low_proj_sabcju_t2[:,:,:,:,:,u].conj() * low_proj_sabcju_t2[:,:,:,:,:,v]\n",
    "        part2_sabcj += part2_sabcj.conj()\n",
    "        part2_sabcj *= 0.5\n",
    "        suv_sabc = np.sum(part2_sabcj, axis=-1)\n",
    "        suv_jsabc = np.array([suv_sabc for j in range(np.shape(weights_sabcj)[-1])], dtype=COMPLEX_DTYPE)\n",
    "        suv_sabcj = np.moveaxis(suv_jsabc, 0, -1)\n",
    "        s_uv_sabcj[u,v, :, :, :, :, :] += abs(suv_sabcj)\n",
    "        luv_sabc = np.zeros([nspin] + list(kfolding), dtype=COMPLEX_DTYPE)\n",
    "        for s in range(nspin):\n",
    "            for a in range(nka):\n",
    "                for b in range(nkb):\n",
    "                    for c in range(nkc):\n",
    "                        for j in range(np.shape(weights_sabcj)[-1]):\n",
    "                            luv_sabc[s,a,b,c] += part2_sabcj[s,a,b,c,j]\n",
    "        luv_jsabc = np.array([luv_sabc for j in range(np.shape(weights_sabcj)[-1])], dtype=COMPLEX_DTYPE)\n",
    "        luv_sabcj = np.moveaxis(luv_jsabc, 0, -1)\n",
    "        l_uv_sabcj[u,v, :, :, :, :, :] += luv_sabcj\n",
    "        # huv_jsabc = np.array([huv_sabc for j in range(np.shape(weights_sabcj)[-1])], dtype=COMPLEX_DTYPE)\n",
    "        # huv_sabcj = np.moveaxis(huv_jsabc, 0, -1)\n",
    "        # if (u in us) and (v in vs):\n",
    "        #     # weights_sabcj += (part_sabcj + part_sabcj.conj())*0.5\n",
    "        #     weights_sabcj += part_sabcj\n",
    "        # weights_sabcj += part_sabcj * huv_sabcj\n",
    "        # weights_sabcj += part_sabcj * suv_sabcj\n",
    "        # weights_sabcj += part_sabcj\n",
    "\n",
    "def plot_weights(e_sabcj, weights_sabcj, ax):\n",
    "    cs = get_gauss_smear_spectrum(erange, e_sabcj, weights_sabcj, SIGMA_DEFAULT)\n",
    "    spectrum = cs_formatter(cs, False)\n",
    "    ax.plot(erange, spectrum)\n",
    "    es, integs = get_uneven_integrated_array(e_sabcj, weights_sabcj)\n",
    "    ax.plot(es, integs)\n",
    "    print(f\"{integs[-1]/(np.prod(kfolding)*nspin)}\")\n",
    "    print(f\"{integs[np.argsort(abs(integs))[-1]]}\")\n",
    "\n",
    "fig, ax = plt.subplots()\n",
    "\n",
    "\n",
    "\n",
    "weights_sabcj = np.zeros(np.shape(e_sabcj), dtype=REAL_DTYPE)\n",
    "# p_uv_sabcj[:,:] *= 1/(nstates**(1/4))\n",
    "for i, u in enumerate(orbs):\n",
    "    for v in orbs[i+1:]:\n",
    "# for u in [0, 3]:\n",
    "#     for s in [4, 7]:\n",
    "        weights_sabcj += np.real(\n",
    "            h_uv_sabcj[u,v,:,:,:,:,:]*np.sum(\n",
    "                h_uv_sabcj[u,v,:,:,:,:,:], axis=(0,1,2,3,4)\n",
    "                )\n",
    "            )\n",
    "plot_weights(e_sabcj, np.real(weights_sabcj*REAL_DTYPE(1)), ax)\n",
    "# plot_weights(e_sabcj, occ_sabcj*wk_sabcj, ax)\n",
    "\n",
    "ax.axvline(edata.mu)"
   ]
  },
  {
   "cell_type": "code",
   "execution_count": 394,
   "metadata": {},
   "outputs": [
    {
     "data": {
      "text/plain": [
       "array([0.99986352-8.00551895e-19j, 1.00000882-9.93308999e-19j,\n",
       "       0.99993631-1.22215534e-18j, 0.99993323+3.09529317e-18j,\n",
       "       0.99894971+6.20285976e-19j, 0.9999726 -4.00369561e-18j,\n",
       "       0.99999964-7.39539240e-19j, 1.00133616+5.11258367e-19j])"
      ]
     },
     "execution_count": 394,
     "metadata": {},
     "output_type": "execute_result"
    }
   ],
   "source": [
    "np.sum(low_proj_sabcju.conj() * low_proj_sabcju, axis=(0,1,2,3,5))"
   ]
  },
  {
   "cell_type": "code",
   "execution_count": 391,
   "metadata": {},
   "outputs": [
    {
     "name": "stdout",
     "output_type": "stream",
     "text": [
      "[1.9999992e+00 1.9999992e+00 1.9999992e+00 1.9999992e+00 1.9999992e+00\n",
      " 3.0448893e-15 2.9976022e-15 0.0000000e+00]\n"
     ]
    }
   ],
   "source": [
    "nelecs_j = np.sum(occ_sabcj*wk_sabcj, axis=(0,1,2,3))\n",
    "print(nelecs_j)"
   ]
  },
  {
   "cell_type": "code",
   "execution_count": 386,
   "metadata": {},
   "outputs": [
    {
     "data": {
      "text/plain": [
       "10.0"
      ]
     },
     "execution_count": 386,
     "metadata": {},
     "output_type": "execute_result"
    }
   ],
   "source": [
    "2.5*4"
   ]
  },
  {
   "cell_type": "code",
   "execution_count": 385,
   "metadata": {},
   "outputs": [
    {
     "data": {
      "text/plain": [
       "4.0"
      ]
     },
     "execution_count": 385,
     "metadata": {},
     "output_type": "execute_result"
    }
   ],
   "source": [
    "2/0.5"
   ]
  },
  {
   "cell_type": "code",
   "execution_count": null,
   "metadata": {},
   "outputs": [],
   "source": []
  }
 ],
 "metadata": {
  "kernelspec": {
   "display_name": "crawfish",
   "language": "python",
   "name": "python3"
  },
  "language_info": {
   "codemirror_mode": {
    "name": "ipython",
    "version": 3
   },
   "file_extension": ".py",
   "mimetype": "text/x-python",
   "name": "python",
   "nbconvert_exporter": "python",
   "pygments_lexer": "ipython3",
   "version": "3.12.5"
  }
 },
 "nbformat": 4,
 "nbformat_minor": 2
}
