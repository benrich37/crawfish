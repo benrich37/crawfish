{
 "cells": [
  {
   "cell_type": "code",
   "execution_count": null,
   "metadata": {},
   "outputs": [],
   "source": [
    "# from crawfish.utils.testing import EXAMPLE_CALC_DIRS_DIR\n",
    "# from __future__ import annotations\n",
    "# import numpy as np\n",
    "# from numba import jit\n",
    "# from crawfish.utils.typing import REAL_DTYPE, COMPLEX_DTYPE\n",
    "# import numpy as np\n",
    "# ex_dir = EXAMPLE_CALC_DIRS_DIR / \"N2_bare_min\"\n",
    "# from crawfish.core.elecdata import ElecData\n",
    "# edata = ElecData.from_calc_dir(ex_dir)\n",
    "# import matplotlib.pyplot as plt"
   ]
  },
  {
   "cell_type": "markdown",
   "metadata": {},
   "source": [
    "# Perform LOS on c_yj -> tilde{c}_yj"
   ]
  },
  {
   "cell_type": "code",
   "execution_count": null,
   "metadata": {},
   "outputs": [
    {
     "name": "stdout",
     "output_type": "stream",
     "text": [
      "(54, 15, 8)\n"
     ]
    },
    {
     "data": {
      "text/plain": [
       "<matplotlib.image.AxesImage at 0x129ab47d0>"
      ]
     },
     "execution_count": null,
     "metadata": {},
     "output_type": "execute_result"
    },
    {
     "data": {
      "image/png": "[encoded data removed]",
      "text/plain": [
       "<Figure size 640x480 with 2 Axes>"
      ]
     },
     "metadata": {},
     "output_type": "display_data"
    }
   ],
   "source": [
    "# edata = ElecData.from_calc_dir(ex_dir)\n",
    "# edata.norm_projs_t2()\n",
    "# c_tju = edata.proj_tju\n",
    "# print(np.shape(c_tju))\n",
    "# for j in range(edata.nbands):\n",
    "#     norm = np.dot(np.conj(c_tju[:, j, :]).flatten().T, c_tju[:, j, :].flatten())\n",
    "#     c_tju[:, j, :] /= np.sqrt(norm)\n",
    "# c_yj = np.reshape(c_tju, [edata.nstates*edata.nproj, edata.nbands])\n",
    "# s_jj = np.dot(c_yj.T.conj(), c_yj) # Big S\n",
    "# eigs, low_u = np.linalg.eigh(s_jj)\n",
    "# ss_jj = np.dot(low_u.T.conj(), np.dot(s_jj, low_u)) # Little s\n",
    "# nsqrt_ss_jj = np.eye(edata.nbands) * (eigs**(-.5)) # Little s^(-1/2)\n",
    "# low_s_jj = np.dot(low_u, np.dot(nsqrt_ss_jj, low_u.T.conj())) # Big S^(-1/2)\n",
    "# low_c_yj = np.dot(c_yj, low_s_jj) # LOS projection coefficients\n",
    "# low_c_sabcju = np.reshape(low_c_yj, np.shape(edata.proj_sabcju))\n",
    "# LL = np.dot(low_c_yj.T.conj(), low_c_yj)\n",
    "# LO = np.dot(low_c_yj.T.conj(), c_yj)\n",
    "# fig,ax = plt.subplots(nrows=2)\n",
    "# ax[0].imshow(np.abs(LL))\n",
    "# ax[1].imshow(np.abs(LO))"
   ]
  },
  {
   "cell_type": "code",
   "execution_count": null,
   "metadata": {},
   "outputs": [
    {
     "name": "stdout",
     "output_type": "stream",
     "text": [
      "(8, 15, 15, 8)\n",
      "complex64\n",
      "complex64\n",
      "(8, 15, 15, 8)\n",
      "(8, 8)\n"
     ]
    },
    {
     "ename": "TypeError",
     "evalue": "only length-1 arrays can be converted to Python scalars",
     "output_type": "error",
     "traceback": [
      "\u001b[0;31m---------------------------------------------------------------------------\u001b[0m",
      "\u001b[0;31mTypeError\u001b[0m                                 Traceback (most recent call last)",
      "Cell \u001b[0;32mIn[32], line 52\u001b[0m\n\u001b[1;32m     50\u001b[0m \u001b[38;5;28mprint\u001b[39m(np\u001b[38;5;241m.\u001b[39mshape(c_ju))\n\u001b[1;32m     51\u001b[0m \u001b[38;5;28mprint\u001b[39m(np\u001b[38;5;241m.\u001b[39mshape(s_uu))\n\u001b[0;32m---> 52\u001b[0m OO \u001b[38;5;241m=\u001b[39m \u001b[43mtest_s_uu\u001b[49m\u001b[43m(\u001b[49m\u001b[43mc_ju\u001b[49m\u001b[43m,\u001b[49m\u001b[43m \u001b[49m\u001b[43ms_uu\u001b[49m\u001b[43m)\u001b[49m\n\u001b[1;32m     53\u001b[0m plt\u001b[38;5;241m.\u001b[39mimshow(np\u001b[38;5;241m.\u001b[39mabs(OO))\n",
      "Cell \u001b[0;32mIn[32], line 38\u001b[0m, in \u001b[0;36mtest_s_uu\u001b[0;34m(c_ju, s_uu)\u001b[0m\n\u001b[1;32m     36\u001b[0m nproj \u001b[38;5;241m=\u001b[39m c_ju\u001b[38;5;241m.\u001b[39mshape[\u001b[38;5;241m1\u001b[39m]\n\u001b[1;32m     37\u001b[0m OO \u001b[38;5;241m=\u001b[39m np\u001b[38;5;241m.\u001b[39mzeros((nbands, nbands), dtype\u001b[38;5;241m=\u001b[39mCOMPLEX_DTYPE)\n\u001b[0;32m---> 38\u001b[0m \u001b[38;5;28;01mreturn\u001b[39;00m \u001b[43m_test_s_uu_jit\u001b[49m\u001b[43m(\u001b[49m\u001b[43mc_ju\u001b[49m\u001b[43m,\u001b[49m\u001b[43m \u001b[49m\u001b[43ms_uu\u001b[49m\u001b[43m,\u001b[49m\u001b[43m \u001b[49m\u001b[43mOO\u001b[49m\u001b[43m,\u001b[49m\u001b[43m \u001b[49m\u001b[43mnbands\u001b[49m\u001b[43m,\u001b[49m\u001b[43m \u001b[49m\u001b[43mnproj\u001b[49m\u001b[43m)\u001b[49m\n",
      "Cell \u001b[0;32mIn[32], line 47\u001b[0m, in \u001b[0;36m_test_s_uu_jit\u001b[0;34m(c_ju, s_uu, OO, nbands, nproj)\u001b[0m\n\u001b[1;32m     45\u001b[0m         \u001b[38;5;28;01mfor\u001b[39;00m j \u001b[38;5;129;01min\u001b[39;00m \u001b[38;5;28mrange\u001b[39m(nbands):\n\u001b[1;32m     46\u001b[0m             \u001b[38;5;28;01mfor\u001b[39;00m k \u001b[38;5;129;01min\u001b[39;00m \u001b[38;5;28mrange\u001b[39m(nbands):\n\u001b[0;32m---> 47\u001b[0m                 \u001b[43mOO\u001b[49m\u001b[43m[\u001b[49m\u001b[43mj\u001b[49m\u001b[43m,\u001b[49m\u001b[43m \u001b[49m\u001b[43mk\u001b[49m\u001b[43m]\u001b[49m \u001b[38;5;241m+\u001b[39m\u001b[38;5;241m=\u001b[39m s_uu[u, v] \u001b[38;5;241m*\u001b[39m np\u001b[38;5;241m.\u001b[39mconj(c_ju[j, u]) \u001b[38;5;241m*\u001b[39m c_ju[k, v]\n\u001b[1;32m     48\u001b[0m \u001b[38;5;28;01mreturn\u001b[39;00m OO\n",
      "\u001b[0;31mTypeError\u001b[0m: only length-1 arrays can be converted to Python scalars"
     ]
    }
   ],
   "source": [
    "# c_sabcju = c_tju.reshape(np.shape(edata.proj_sabcju))\n",
    "# m_ujju = np.tensordot(c_sabcju.conj().T, c_sabcju, axes=[(5,4,3,2), (0,1,2,3)])\n",
    "# low_m_ujju = np.tensordot(low_c_sabcju.conj().T, low_c_sabcju, axes=[(5,4,3,2), (0,1,2,3)])\n",
    "# s_ujju = low_m_ujju / m_ujju\n",
    "# s_uu = np.average(s_ujju, axis=(1,2))\n",
    "# s_uu = np.array(s_uu, dtype=COMPLEX_DTYPE)\n",
    "# print(np.shape(m_ujju))\n",
    "# print(c_ju.dtype)\n",
    "# print(s_uu.dtype)\n",
    "# # c_ju = np.sum(c_sabcju, axis=(0,1,2,3))\n",
    "# # low_c_ju = np.sum(low_c_sabcju, axis=(0,1,2,3))\n",
    "\n",
    "# # def get_s_uujj(c_ju: np.ndarray, low_c_ju: np.ndarray) -> np.ndarray:\n",
    "# #     nbands = c_ju.shape[0]\n",
    "# #     nproj = c_ju.shape[1]\n",
    "# #     s_uujj = np.zeros((nproj, nproj, nbands, nbands), dtype=COMPLEX_DTYPE)\n",
    "# #     return _get_s_uujj_jit(c_ju, low_c_ju, s_uujj, nbands, nproj)\n",
    "\n",
    "# # @jit(nopython=True)\n",
    "# # def _get_s_uujj_jit(c_ju: np.ndarray, low_c_ju: np.ndarray, s_uujj: np.ndarray, nbands: int, nproj: int):\n",
    "# #     for u in range(nproj):\n",
    "# #         for v in range(nproj):\n",
    "# #             for j in range(nbands):\n",
    "# #                 for k in range(nbands):\n",
    "# #                     s_uujj[u, v, j, k] = (np.conj(low_c_ju[j, u]) * low_c_ju[k, v]) / (np.conj(c_ju[j, u]) * c_ju[k, v])\n",
    "# #     return s_uujj\n",
    "\n",
    "# # s_uujj = get_s_uujj(c_ju, low_c_ju)\n",
    "# # c_jy = np.swapaxes(c_yj, 0, 1)\n",
    "# # low_c_jy = np.swapaxes(low_c_yj, 0, 1)\n",
    "# # s_uujj = get_s_uujj(c_jy, low_c_jy)\n",
    "# # s_uu = np.average(s_uujj, axis=(2,3))\n",
    "\n",
    "# def test_s_uu(c_ju:np.ndarray, s_uu: np.ndarray):\n",
    "#     nbands = c_ju.shape[0]\n",
    "#     nproj = c_ju.shape[1]\n",
    "#     OO = np.zeros((nbands, nbands), dtype=COMPLEX_DTYPE)\n",
    "#     return _test_s_uu_jit(c_ju, s_uu, OO, nbands, nproj)\n",
    "\n",
    "\n",
    "# #@jit(nopython=True)\n",
    "# def _test_s_uu_jit(c_ju: np.ndarray, s_uu: np.ndarray, OO: np.ndarray, nbands: int, nproj: int):\n",
    "#     for u in range(nproj):\n",
    "#         for v in range(nproj):\n",
    "#             for j in range(nbands):\n",
    "#                 for k in range(nbands):\n",
    "#                     OO[j, k] += s_uu[u, v] * np.conj(c_ju[j, u]) * c_ju[k, v]\n",
    "#     return OO\n",
    "\n",
    "# print(np.shape(c_ju))\n",
    "# print(np.shape(s_uu))\n",
    "# OO = test_s_uu(c_ju, s_uu)\n",
    "# plt.imshow(np.abs(OO))\n",
    "\n"
   ]
  }
 ],
 "metadata": {
  "kernelspec": {
   "display_name": "crawfish",
   "language": "python",
   "name": "python3"
  },
  "language_info": {
   "codemirror_mode": {
    "name": "ipython",
    "version": 3
   },
   "file_extension": ".py",
   "mimetype": "text/x-python",
   "name": "python",
   "nbconvert_exporter": "python",
   "pygments_lexer": "ipython3",
   "version": "3.12.5"
  }
 },
 "nbformat": 4,
 "nbformat_minor": 2
}
